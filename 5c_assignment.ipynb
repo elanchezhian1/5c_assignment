{
 "cells": [
  {
   "cell_type": "code",
   "execution_count": 43,
   "id": "d2f83d8e-be10-410d-87db-1dd15337ebe8",
   "metadata": {},
   "outputs": [
    {
     "name": "stdout",
     "output_type": "stream",
     "text": [
      "Total Revenue:  127804.31\n",
      "Total Cost:  96321.56\n",
      "Overall Gross Margin:  31482.75\n"
     ]
    }
   ],
   "source": [
    "# 1) 1. What is their overall gross margin for their business?\n",
    "import pandas as pd\n",
    "\n",
    "# Load the CSV file\n",
    "file_path = 'sales_data_1.csv'\n",
    "sales_data = pd.read_csv(file_path)\n",
    "\n",
    "# Calculate the total revenue and total cost\n",
    "sales_data['Total Revenue'] = sales_data['Selling price'] * sales_data['Quantity sold']\n",
    "sales_data['Total Cost'] = sales_data['Buying price'] * sales_data['Quantity sold']\n",
    "\n",
    "# Calculate the overall gross margin\n",
    "total_revenue = sales_data['Total Revenue'].sum()\n",
    "total_cost = sales_data['Total Cost'].sum()\n",
    "overall_gross_margin = total_revenue - total_cost\n",
    "\n",
    "# 1) overall gross margin\n",
    "print(\"Total Revenue: \",round(total_revenue,2))\n",
    "print(\"Total Cost: \",round(total_cost,2))\n",
    "print(\"Overall Gross Margin: \",round(overall_gross_margin,2))"
   ]
  },
  {
   "cell_type": "code",
   "execution_count": 72,
   "id": "5cc5dc2d-2a9c-47ca-8873-47bb5a4a448e",
   "metadata": {},
   "outputs": [
    {
     "name": "stdout",
     "output_type": "stream",
     "text": [
      "The most profitable vendor is Vendor4 with a total profit of 6903.31\n"
     ]
    }
   ],
   "source": [
    "# 2) Which vendor is the most profitable?\n",
    "\n",
    "# Calculate the total profit for each vendor\n",
    "sales_data['Total Profit'] = (sales_data['Selling price'] - sales_data['Buying price']) * sales_data['Quantity sold']\n",
    "\n",
    "# Group data by vendor and calculate the total profit for each\n",
    "vendor_profit = sales_data.groupby('Firm bought from')['Total Profit'].sum()\n",
    "\n",
    "# Find the vendor with the highest total profit\n",
    "most_profitable_vendor = vendor_profit.idxmax()\n",
    "highest_profit = vendor_profit.max()\n",
    "\n",
    "# Display the most profitable vendor and their total profit\n",
    "print(\"The most profitable vendor is {} with a total profit of {}\".format(most_profitable_vendor,round(highest_profit,2)))"
   ]
  },
  {
   "cell_type": "code",
   "execution_count": 99,
   "id": "a6c1ebfb-2bd7-48ad-9c73-ec84460747d2",
   "metadata": {},
   "outputs": [
    {
     "name": "stdout",
     "output_type": "stream",
     "text": [
      "The least profitable customer is 'Customer3' with a total profit of 1055.05\n"
     ]
    }
   ],
   "source": [
    "# 3) Which customer is the least profitable?\n",
    "\n",
    "# Calculate the total profit for each customer\n",
    "sales_data['Total Profit'] = (sales_data['Selling price'] - sales_data['Buying price']) * sales_data['Quantity sold']\n",
    "\n",
    "# Group data by customer and calculate the total profit for each\n",
    "customer_profit = sales_data.groupby('Customer')['Total Profit'].sum()\n",
    "\n",
    "# Find the customer with the lowest total profit\n",
    "least_profitable_customer = customer_profit.idxmin()\n",
    "lowest_profit = customer_profit.min()\n",
    "\n",
    "# Display the least profitable customer and their total profit\n",
    "print(\"The least profitable customer is '{}' with a total profit of {}\".format(least_profitable_customer,lowest_profit))"
   ]
  },
  {
   "cell_type": "code",
   "execution_count": 108,
   "id": "72203b09-947d-4b08-b1c3-beb61cc68fc6",
   "metadata": {},
   "outputs": [
    {
     "name": "stdout",
     "output_type": "stream",
     "text": [
      "The most profitable day of the week was  Monday with a total profit of 6847.34\n"
     ]
    }
   ],
   "source": [
    "# 4) Which day of the week was most profitable for them?\n",
    "\n",
    "# Convert the 'Date' column to datetime format\n",
    "sales_data['Date'] = pd.to_datetime(sales_data['Date'])\n",
    "\n",
    "# Calculate the total profit for each transaction\n",
    "sales_data['Total Profit'] = (sales_data['Selling price'] - sales_data['Buying price']) * sales_data['Quantity sold']\n",
    "\n",
    "# Extract the day of the week and calculate total profit for each day\n",
    "sales_data['Day of Week'] = sales_data['Date'].dt.day_name()\n",
    "profit_by_day = sales_data.groupby('Day of Week')['Total Profit'].sum()\n",
    "\n",
    "# Find the day of the week with the highest total profit\n",
    "most_profitable_day = profit_by_day.idxmax()\n",
    "highest_profit = profit_by_day.max()\n",
    "\n",
    "# Display the most profitable day of the week and the total profit\n",
    "print(\"The most profitable day of the week was \",most_profitable_day,\"with a total profit of\",round(highest_profit,2))"
   ]
  },
  {
   "cell_type": "code",
   "execution_count": 118,
   "id": "e94b9093-871f-4c63-bfbf-63acba4c6646",
   "metadata": {},
   "outputs": [
    {
     "name": "stdout",
     "output_type": "stream",
     "text": [
      "The least profitable day of the week was 'Sunday' with a total profit of 3086.46\n"
     ]
    }
   ],
   "source": [
    "# 5) Which day of the week was the least profitable for them?\n",
    "\n",
    "# Parse the 'Date' column with a specific date format (assuming 'dd-mm-yyyy')\n",
    "sales_data['Date'] = pd.to_datetime(sales_data['Date'], format='%d-%m-%Y')\n",
    "\n",
    "# Calculate the total profit for each transaction\n",
    "sales_data['Total Profit'] = (sales_data['Selling price'] - sales_data['Buying price']) * sales_data['Quantity sold']\n",
    "\n",
    "# Extract the day of the week and calculate total profit for each day\n",
    "sales_data['Day of Week'] = sales_data['Date'].dt.day_name()\n",
    "profit_by_day = sales_data.groupby('Day of Week')['Total Profit'].sum()\n",
    "\n",
    "# Find the day of the week with the lowest total profit\n",
    "least_profitable_day = profit_by_day.idxmin()\n",
    "lowest_profit = profit_by_day.min()\n",
    "\n",
    "# Display the least profitable day of the week and the total profit\n",
    "print(\"The least profitable day of the week was '{}' with a total profit of {}\".format(least_profitable_day, round(lowest_profit,2)))"
   ]
  },
  {
   "cell_type": "code",
   "execution_count": 139,
   "id": "e08bfe7c-4ff9-44a9-84b7-c85dd786e76c",
   "metadata": {},
   "outputs": [
    {
     "name": "stdout",
     "output_type": "stream",
     "text": [
      "Date\n",
      "2023-08-21            NaN\n",
      "2023-08-22            NaN\n",
      "2023-08-23    4848.386667\n",
      "2023-08-24    4187.950000\n",
      "2023-08-25    4340.146667\n",
      "2023-08-26    4617.043333\n",
      "2023-08-27    4023.853333\n",
      "Name: Gross_Profit, dtype: float64\n"
     ]
    }
   ],
   "source": [
    "# 6) Can you calculate a 3-day average of the daily gross profit from the sales_data_2.csv? \n",
    "\n",
    "\n",
    "# Read the CSV file\n",
    "data = pd.read_csv('sales_data_2.csv')\n",
    "\n",
    "# Convert date column to datetime\n",
    "data['Date'] = pd.to_datetime(data['Date'])\n",
    "\n",
    "# Calculate the daily gross profit\n",
    "data['Gross_Profit'] = (data['Selling price'] - data['Buying price']) * data['Quantity sold']\n",
    "\n",
    "# Group by date and calculate daily gross profit\n",
    "daily_profit = data.groupby('Date')['Gross_Profit'].sum()\n",
    "\n",
    "# Calculate the 3-day moving average of daily gross profit\n",
    "three_day_avg = daily_profit.rolling(window=3).mean()\n",
    "\n",
    "print(three_day_avg)\n"
   ]
  },
  {
   "cell_type": "code",
   "execution_count": 185,
   "id": "072dce08-7901-4500-9088-388a16d25b67",
   "metadata": {},
   "outputs": [
    {
     "data": {
      "image/png": "[encoded data removed]",
      "text/plain": [
       "<Figure size 500x300 with 1 Axes>"
      ]
     },
     "metadata": {},
     "output_type": "display_data"
    }
   ],
   "source": [
    "# 7) Additionally, provide insights into how this 3-day trend changes over the time period covered in the dataset. \n",
    "\n",
    "import matplotlib.pyplot as plt\n",
    "\n",
    "data['Date'] = pd.to_datetime(data['Date'])\n",
    "\n",
    "# Calculate the daily gross profit\n",
    "data['Gross_Profit'] = (data['Selling price'] - data['Buying price']) * data['Quantity sold']\n",
    "\n",
    "# Group by date and calculate daily gross profit\n",
    "daily_profit = data.groupby('Date')['Gross_Profit'].sum()\n",
    "\n",
    "# Calculate the 3-day moving average of daily gross profit\n",
    "three_day_avg = daily_profit.rolling(window=3).mean()\n",
    "\n",
    "# Plotting the 3-day moving average trend\n",
    "plt.figure(figsize=(5, 3))\n",
    "plt.plot(three_day_avg, marker='o', linestyle='-')\n",
    "plt.title('3-Day Moving Average of Daily Gross Profit Over Time')\n",
    "plt.xlabel('Date')\n",
    "plt.ylabel('3-Day Moving Average Gross Profit')\n",
    "plt.xticks(rotation=45)\n",
    "plt.grid(True)\n",
    "plt.show()\n"
   ]
  },
  {
   "cell_type": "code",
   "execution_count": 216,
   "id": "256c14df-3d89-4bf6-b0cb-171b0b284503",
   "metadata": {},
   "outputs": [
    {
     "name": "stdout",
     "output_type": "stream",
     "text": [
      "There is no need for firing any vendor\n",
      "There is no need for letting go of any customers\n"
     ]
    }
   ],
   "source": [
    "# 8) Can you optimize the sales process to ensure gross margin is maximized?\n",
    "#    a) Would you fire any vendor?\n",
    "#    b) Would you let go of any customer?\n",
    "\n",
    "# Calculating total sales and profit for each vendor\n",
    "vendor_sales = data.groupby('Firm bought from')['Quantity sold'].sum()\n",
    "vendor_purchase_cost = data.groupby('Firm bought from')['Buying price'].sum()\n",
    "vendor_sales_revenue = data.groupby('Firm bought from')['Selling price'].sum()\n",
    "vendor_profit = vendor_sales_revenue - vendor_purchase_cost\n",
    "\n",
    "# Calculating total sales and profit for each customer\n",
    "customer_purchase_cost = data.groupby('Customer')['Selling price'].sum()\n",
    "customer_revenue = data.groupby('Customer')['Selling price'].sum()\n",
    "customer_profit = customer_revenue - customer_purchase_cost\n",
    "\n",
    "# Determine if any vendors should be fired based on profitability\n",
    "vendor_flag = False\n",
    "for vendor in vendor_profit.index:\n",
    "    if vendor_profit[vendor] < 0:\n",
    "        print(f\"Firing Vendor: {vendor} - Total profit: {vendor_profit[vendor]}\")\n",
    "        vendor_flag = True\n",
    "\n",
    "customer_falg = False\n",
    "# Determine if any customers should be let go based on their contribution to profit\n",
    "for customer in customer_profit.index:\n",
    "    if customer_profit[customer] < 0:\n",
    "        print(f\"Letting go of Customer: {customer} - Total profit: {customer_profit[customer]}\")\n",
    "        customer_flag = True\n",
    "\n",
    "if vendor_flag == False:\n",
    "    print(\"There is no need for firing any vendor\")\n",
    "else:\n",
    "    print(\"We should some the vendors\")\n",
    "\n",
    "if customer_falg == False:\n",
    "    print(\"There is no need for letting go of any customers\")\n",
    "else:\n",
    "    print(\"We should let go of some customers\")"
   ]
  },
  {
   "cell_type": "code",
   "execution_count": 237,
   "id": "d9984b34-6f76-451b-8c25-b75bbc0d8836",
   "metadata": {},
   "outputs": [
    {
     "name": "stdout",
     "output_type": "stream",
     "text": [
      "Buying Price Percentiles:\n",
      "0.25    29.90\n",
      "0.50    60.76\n",
      "0.75    78.32\n",
      "Name: Buying price, dtype: float64\n",
      "\n",
      "Selling Price Percentiles:\n",
      "0.25     38.9750\n",
      "0.50     78.9900\n",
      "0.75    103.3975\n",
      "Name: Selling price, dtype: float64\n"
     ]
    }
   ],
   "source": [
    "# 9) To ensure competitive pricing, Ram wants to benchmark their buying and selling prices against the market. \n",
    "#     Could you calculate the 25th, 50th (median), and 75th percentiles for both buying and selling prices? \n",
    "\n",
    "buying_percentiles = data['Buying price'].quantile([0.25, 0.5, 0.75])\n",
    "print(\"Buying Price Percentiles:\")\n",
    "print(buying_percentiles)\n",
    "\n",
    "# Calculate percentiles for selling price\n",
    "selling_percentiles = data['Selling price'].quantile([0.25, 0.5, 0.75])\n",
    "print(\"\\nSelling Price Percentiles:\")\n",
    "print(selling_percentiles)"
   ]
  },
  {
   "cell_type": "code",
   "execution_count": 260,
   "id": "d71a130d-ff48-400c-8597-37866d4c21a3",
   "metadata": {},
   "outputs": [
    {
     "name": "stdout",
     "output_type": "stream",
     "text": [
      "Buying prices falling below the 25th percentile: 18 times\n",
      "Buying prices rising above the 75th percentile: 18 times\n"
     ]
    }
   ],
   "source": [
    "# 10) Additionally, analyze how often the Sapota’s prices fall below the 25th percentile or above \n",
    "#   the 75th percentile, potentially indicating they are buying at a high price or selling \n",
    "#   at a low price relative to their own transaction history.\n",
    "\n",
    "buying_25th_percentile = data['Buying price'].quantile(0.25)\n",
    "buying_75th_percentile = data['Buying price'].quantile(0.75)\n",
    "\n",
    "selling_25th_percentile = data['Selling price'].quantile(0.25)\n",
    "selling_75th_percentile = data['Selling price'].quantile(0.75)\n",
    "\n",
    "# Count how often the prices fall below the 25th percentile or above the 75th percentile\n",
    "below_25th_buying = data[data['Buying price'] < buying_25th_percentile].shape[0]\n",
    "above_75th_buying = data[data['Buying price'] > buying_75th_percentile].shape[0]\n",
    "\n",
    "below_25th_selling = data[data['Selling price'] < selling_25th_percentile].shape[0]\n",
    "above_75th_selling = data[data['Selling price'] > selling_75th_percentile].shape[0]\n",
    "\n",
    "print(f\"Buying prices falling below the 25th percentile: {below_25th_buying} times\")\n",
    "print(f\"Buying prices rising above the 75th percentile: {above_75th_buying} times\")\n"
   ]
  },
  {
   "cell_type": "code",
   "execution_count": 286,
   "id": "575a5963-27ab-4d1e-9ab3-0cc82be98877",
   "metadata": {},
   "outputs": [
    {
     "name": "stdout",
     "output_type": "stream",
     "text": [
      "Current Overall Gross Margin: 1207.2\n",
      "Impact of honoring Vendor 4: 1207.2\n",
      "New Overall Gross Margin after honoring Vendor 4: 1207.2\n"
     ]
    }
   ],
   "source": [
    "# 11) Bharath says that Vendor 4 has to be honored.  What impact does it have on your optimal gross margin? \n",
    "\n",
    "# Calculate the current overall gross margin\n",
    "data['Gross Margin'] = data['Selling price'] - data['Buying price']\n",
    "current_gross_margin = data['Gross Margin'].sum()\n",
    "\n",
    "# Filter out entries related to Vendor 4\n",
    "vendor_4_data = data[data['Firm bought from'] == 'Vendor4']\n",
    "\n",
    "# Calculate the impact of honoring Vendor 4 on the gross margin\n",
    "impact_on_gross_margin = vendor_4_data['Selling price'].sum() - vendor_4_data['Buying price'].sum()\n",
    "\n",
    "# Calculate the new gross margin after honoring Vendor 4\n",
    "new_gross_margin = current_gross_margin + impact_on_gross_margin\n",
    "\n",
    "print(\"Current Overall Gross Margin: {}\".format(round(current_gross_margin,2)))\n",
    "print(\"Impact of honoring Vendor 4: {}\".format(round(current_gross_margin,2)))\n",
    "print(\"New Overall Gross Margin after honoring Vendor 4: {}\".format(round(current_gross_margin,2)))"
   ]
  },
  {
   "cell_type": "code",
   "execution_count": 315,
   "id": "dd782324-1582-43ba-ba96-dce2b146c86f",
   "metadata": {},
   "outputs": [
    {
     "name": "stdout",
     "output_type": "stream",
     "text": [
      "Average Gross Margin for Each Vendor:\n",
      "Firm bought from\n",
      "Vendor9     27.543333\n",
      "Vendor3     27.530000\n",
      "Vendor4     18.901111\n",
      "Vendor5     16.711429\n",
      "Vendor7     16.070000\n",
      "Vendor2     14.646364\n",
      "Vendor10    13.763333\n",
      "Vendor8     11.886667\n",
      "Vendor6     10.703333\n",
      "Vendor1     10.646000\n",
      "Name: Gross Margin, dtype: float64\n",
      "\n",
      "Vendor with the Highest Average Gross Margin:\n",
      "Vendor9 with an average gross margin of 27.54\n"
     ]
    }
   ],
   "source": [
    "# 12) 2. Which vendor should we have a strategic tie up so that we source only from them (the goal here is to have the highest gross margin)\n",
    "#    - What’s the theoretical max margin the firm could have from that branch?\n",
    "\n",
    "# Calculate the gross margin for each transaction\n",
    "data['Gross Margin'] = data['Selling price'] - data['Buying price']\n",
    "\n",
    "# Calculate the average gross margin for each vendor\n",
    "avg_gross_margin_by_vendor = data.groupby('Firm bought from')['Gross Margin'].mean().sort_values(ascending=False)\n",
    "\n",
    "# Vendor with the highest average gross margin\n",
    "highest_avg_margin_vendor = avg_gross_margin_by_vendor.idxmax()\n",
    "highest_avg_margin = avg_gross_margin_by_vendor.max()\n",
    "\n",
    "print(\"Average Gross Margin for Each Vendor:\")\n",
    "print(avg_gross_margin_by_vendor)\n",
    "print(\"\\nVendor with the Highest Average Gross Margin:\")\n",
    "print(highest_avg_margin_vendor, \"with an average gross margin of\", round(highest_avg_margin,2))"
   ]
  },
  {
   "cell_type": "code",
   "execution_count": 346,
   "id": "c2451e28-923a-4a13-b04d-d2cd41d900f3",
   "metadata": {},
   "outputs": [
    {
     "name": "stdout",
     "output_type": "stream",
     "text": [
      "Price elasticity for a price increase of Rs. 1: 1.35\n",
      "Price elasticity for a price decrease of Rs. 1: -0.0\n"
     ]
    }
   ],
   "source": [
    "# 13) Given this is the ground truth, what is the price elasticity of Sapota for that branch? \n",
    "#     (If you increase by Rs.1, how much sales will go up/down and if you decrease price by Rs. 1, how much sales will go up/down) \n",
    "\n",
    "# Calculate total sales at the initial price\n",
    "initial_total_sales = data['Selling price'].sum()\n",
    "\n",
    "# Function to calculate price elasticity\n",
    "def calculate_elasticity(price_change):\n",
    "    # Change the price by the specified amount\n",
    "    data['Selling price'] += price_change\n",
    "\n",
    "    # Calculate total sales after price change\n",
    "    new_total_sales = data['Selling price'].sum()\n",
    "\n",
    "    # Calculate the percentage change in quantity demanded\n",
    "    percentage_change_quantity_demanded = ((new_total_sales - initial_total_sales) / initial_total_sales) * 100\n",
    "\n",
    "    # Calculate price elasticity\n",
    "    price_elasticity = percentage_change_quantity_demanded / price_change\n",
    "\n",
    "    return price_elasticity\n",
    "\n",
    "# Calculate the price elasticity for a price increase by Rs. 1\n",
    "price_increase = 1\n",
    "elasticity_increase = calculate_elasticity(price_increase)\n",
    "print(\"Price elasticity for a price increase of Rs. 1: {}\".format(round(elasticity_increase,2)))\n",
    "\n",
    "# Calculate the price elasticity for a price decrease by Rs. 1\n",
    "price_decrease = -1\n",
    "elasticity_decrease = calculate_elasticity(price_decrease)\n",
    "print(\"Price elasticity for a price decrease of Rs. 1: {}\".format(round(elasticity_decrease,2)))"
   ]
  }
 ],
 "metadata": {
  "kernelspec": {
   "display_name": "Python 3 (ipykernel)",
   "language": "python",
   "name": "python3"
  },
  "language_info": {
   "codemirror_mode": {
    "name": "ipython",
    "version": 3
   },
   "file_extension": ".py",
   "mimetype": "text/x-python",
   "name": "python",
   "nbconvert_exporter": "python",
   "pygments_lexer": "ipython3",
   "version": "3.12.0"
  }
 },
 "nbformat": 4,
 "nbformat_minor": 5
}
